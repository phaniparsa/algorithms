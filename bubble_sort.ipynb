{
 "cells": [
  {
   "cell_type": "code",
   "execution_count": 1,
   "metadata": {},
   "outputs": [],
   "source": [
    "#bubbleSort"
   ]
  },
  {
   "cell_type": "code",
   "execution_count": 22,
   "metadata": {},
   "outputs": [],
   "source": [
    "def to_swap(inp_arr):\n",
    "    flag = False\n",
    "    for i in range(len(inp_arr)-1):\n",
    "        if (inp_arr[i] > inp_arr[i+1]):\n",
    "            flag = True\n",
    "    return flag"
   ]
  },
  {
   "cell_type": "code",
   "execution_count": 39,
   "metadata": {},
   "outputs": [],
   "source": [
    "def bubble_sort(inp_arr):\n",
    "    if (to_swap(inp_arr)):\n",
    "        print(\"Input array is not sorted, and time complexity is O(n^2)\")\n",
    "        for i in range(len(inp_arr)):\n",
    "            for j in range(len(inp_arr)-i-1):\n",
    "                if (inp_arr[j] > inp_arr[j+1]):\n",
    "                    inp_arr[j], inp_arr[j+1] = inp_arr[j+1], inp_arr[j]\n",
    "    else:\n",
    "        print(\"Array is already sorted, best case time complexity- O(n)\")\n",
    "    return"
   ]
  },
  {
   "cell_type": "code",
   "execution_count": 40,
   "metadata": {},
   "outputs": [
    {
     "name": "stdout",
     "output_type": "stream",
     "text": [
      "Input array is not sorted, and time complexity is O(n^2)\n",
      "Array is already sorted, best case time complexity- O(n)\n"
     ]
    }
   ],
   "source": [
    "inp_arr = [6, 10, 13, 5, 8, 3, 2, 11]\n",
    "bubble_sort(inp_arr)\n",
    "bubble_sort([2, 3, 5, 6, 8, 10, 11, 13])"
   ]
  },
  {
   "cell_type": "markdown",
   "metadata": {},
   "source": [
    "### Correctness\n",
    "- After the end of the first iteration of outer for loop, 1st max. value will be positioned at the end of the array. \n",
    "- Similarly, in te subsequent iterations, second max., third max. values etc., will be placed in 2nd and 3rd positions from the end of an array.\n",
    "- After the execution of outer for loop, all items will be sorted, ensuring correctness.\n",
    "\n",
    "### Inplace sorting\n",
    "- Bubble sort utilizes additional variables such as i, j for iterating through loops. \n",
    "- The above two variables remain consistent irrespective of the input array size.\n",
    "- As bubble sort utilizies the input array memory locations to sort the elements, and only requires two additional variables, irrespective of input size, this is an Inplace sorting algorithm.\n",
    "- Ref. https://www.geeksforgeeks.org/in-place-algorithm/\n",
    "\n",
    "### Stability\n",
    "- Bubble sort is a stable sort algorith.\n",
    "- Ref. https://www.freecodecamp.org/news/stability-in-sorting-algorithms-a-treatment-of-equality-fa3140a5a539/\n",
    "\n",
    "### Useful resources\n",
    "- https://www.bigocheatsheet.com/"
   ]
  }
 ],
 "metadata": {
  "kernelspec": {
   "display_name": "Python 3",
   "language": "python",
   "name": "python3"
  },
  "language_info": {
   "codemirror_mode": {
    "name": "ipython",
    "version": 3
   },
   "file_extension": ".py",
   "mimetype": "text/x-python",
   "name": "python",
   "nbconvert_exporter": "python",
   "pygments_lexer": "ipython3",
   "version": "3.7.3"
  }
 },
 "nbformat": 4,
 "nbformat_minor": 2
}
